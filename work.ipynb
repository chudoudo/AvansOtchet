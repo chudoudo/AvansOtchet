{
 "cells": [
  {
   "cell_type": "code",
   "outputs": [
    {
     "ename": "AttributeError",
     "evalue": "Property 'Excel.Application.Interactive' can not be set.",
     "output_type": "error",
     "traceback": [
      "\u001B[1;31m---------------------------------------------------------------------------\u001B[0m",
      "\u001B[1;31mAttributeError\u001B[0m                            Traceback (most recent call last)",
      "Cell \u001B[1;32mIn[2], line 28\u001B[0m\n\u001B[0;32m     23\u001B[0m   workbook\u001B[38;5;241m.\u001B[39mActiveSheet\u001B[38;5;241m.\u001B[39mExportAsFixedFormat(\u001B[38;5;241m0\u001B[39m, output)\n\u001B[0;32m     25\u001B[0m   workbook\u001B[38;5;241m.\u001B[39mClose()\n\u001B[1;32m---> 28\u001B[0m pdf_file \u001B[38;5;241m=\u001B[39m exl2pdf(\u001B[38;5;124mr\u001B[39m\u001B[38;5;124m\"\u001B[39m\u001B[38;5;124mC:\u001B[39m\u001B[38;5;124m\\\u001B[39m\u001B[38;5;124mUsers\u001B[39m\u001B[38;5;124m\\\u001B[39m\u001B[38;5;124muser\u001B[39m\u001B[38;5;124m\\\u001B[39m\u001B[38;5;124mDocuments\u001B[39m\u001B[38;5;124m\\\u001B[39m\u001B[38;5;124mdocuments\u001B[39m\u001B[38;5;124m\\\u001B[39m\u001B[38;5;124mtest.xlsb\u001B[39m\u001B[38;5;124m\"\u001B[39m)\n\u001B[0;32m     32\u001B[0m \u001B[38;5;66;03m#def merge_pdfs(main_pdf, attachment_files, output_pdf):\u001B[39;00m\n\u001B[0;32m     33\u001B[0m \u001B[38;5;66;03m#    merger = PdfMerger()\u001B[39;00m\n\u001B[0;32m     34\u001B[0m \n\u001B[1;32m   (...)\u001B[0m\n\u001B[0;32m     44\u001B[0m     \u001B[38;5;66;03m# Пути к файлам\u001B[39;00m\n\u001B[0;32m     45\u001B[0m \u001B[38;5;66;03m#excel_file_path = 'test.xlsb'\u001B[39;00m\n\u001B[0;32m     46\u001B[0m attachment_pdf_path \u001B[38;5;241m=\u001B[39m \u001B[38;5;124m'\u001B[39m\u001B[38;5;124m1122.pdf\u001B[39m\u001B[38;5;124m'\u001B[39m\n",
      "Cell \u001B[1;32mIn[2], line 17\u001B[0m, in \u001B[0;36mexl2pdf\u001B[1;34m(file_locaion)\u001B[0m\n\u001B[0;32m     15\u001B[0m \u001B[38;5;28;01mdef\u001B[39;00m \u001B[38;5;21mexl2pdf\u001B[39m(file_locaion):\n\u001B[0;32m     16\u001B[0m   app \u001B[38;5;241m=\u001B[39m client\u001B[38;5;241m.\u001B[39mDispatch(\u001B[38;5;124m\"\u001B[39m\u001B[38;5;124mExcel.Application\u001B[39m\u001B[38;5;124m\"\u001B[39m)\n\u001B[1;32m---> 17\u001B[0m   app\u001B[38;5;241m.\u001B[39mInteractive \u001B[38;5;241m=\u001B[39m \u001B[38;5;28;01mFalse\u001B[39;00m\n\u001B[0;32m     18\u001B[0m   app\u001B[38;5;241m.\u001B[39mVisible \u001B[38;5;241m=\u001B[39m \u001B[38;5;28;01mFalse\u001B[39;00m\n\u001B[0;32m     20\u001B[0m   workbook \u001B[38;5;241m=\u001B[39m app\u001B[38;5;241m.\u001B[39mWorkbooks\u001B[38;5;241m.\u001B[39mOpen(file_locaion)\n",
      "File \u001B[1;32m~\\anaconda3\\Lib\\site-packages\\win32com\\client\\dynamic.py:707\u001B[0m, in \u001B[0;36mCDispatch.__setattr__\u001B[1;34m(self, attr, value)\u001B[0m\n\u001B[0;32m    705\u001B[0m         \u001B[38;5;28;01mexcept\u001B[39;00m pythoncom\u001B[38;5;241m.\u001B[39mcom_error:\n\u001B[0;32m    706\u001B[0m             \u001B[38;5;28;01mpass\u001B[39;00m\n\u001B[1;32m--> 707\u001B[0m \u001B[38;5;28;01mraise\u001B[39;00m \u001B[38;5;167;01mAttributeError\u001B[39;00m(\n\u001B[0;32m    708\u001B[0m     \u001B[38;5;124m\"\u001B[39m\u001B[38;5;124mProperty \u001B[39m\u001B[38;5;124m'\u001B[39m\u001B[38;5;132;01m%s\u001B[39;00m\u001B[38;5;124m.\u001B[39m\u001B[38;5;132;01m%s\u001B[39;00m\u001B[38;5;124m'\u001B[39m\u001B[38;5;124m can not be set.\u001B[39m\u001B[38;5;124m\"\u001B[39m \u001B[38;5;241m%\u001B[39m (\u001B[38;5;28mself\u001B[39m\u001B[38;5;241m.\u001B[39m_username_, attr)\n\u001B[0;32m    709\u001B[0m )\n",
      "\u001B[1;31mAttributeError\u001B[0m: Property 'Excel.Application.Interactive' can not be set."
     ]
    }
   ],
   "source": [
    "from PyPDF2 import PdfWriter\n",
    "from win32com import client\n",
    "import os\n",
    "\n",
    "#Функция, импортирующая Excel в PDF\n",
    "def exl2pdf(file_locaion):\n",
    "  app = client.Dispatch(\"Excel.Application\")\n",
    "  app.Interactive = False\n",
    "  app.Visible = False\n",
    "  workbook = app.Workbooks.Open(file_locaion)\n",
    "  output = os.path.splitext(file_locaion)[0]\n",
    "  workbook.ActiveSheet.ExportAsFixedFormat(0, output)\n",
    "  workbook.Close()\n",
    "\n",
    "#Воспользуемся функцией\n",
    "#PDF сохранится в папке \"documents\", где лежит и основной Excel документ\n",
    "pdf_file = exl2pdf(r\"C:\\Users\\user\\Documents\\documents\\test.xlsb\")\n",
    "\n",
    "#Скрепляем Отчет с приложением:\n",
    "merger = PdfWriter()\n",
    "#В квадратных скобках через запятую можно указывать пути всех необходимых приложений из папки \"documents\"\n",
    "for pdf in [r'C:\\Users\\user\\Document\\documents\\test.pdf', r'C:\\Users\\user\\Document\\documents\\Attachment.pdf']:\n",
    "    merger.append(pdf)\n",
    "\n",
    "#Кладем в ту же папку скрепленный документ\n",
    "merger.write(r'C:\\Users\\user\\Document\\documents\\ResultDocument.pdf')\n",
    "merger.close()"
   ],
   "metadata": {
    "collapsed": false,
    "ExecuteTime": {
     "end_time": "2024-05-15T10:26:46.129378400Z",
     "start_time": "2024-05-15T10:26:45.918394200Z"
    }
   },
   "id": "3b07c424443e1aa6",
   "execution_count": 2
  },
  {
   "cell_type": "code",
   "outputs": [],
   "source": [],
   "metadata": {
    "collapsed": false,
    "ExecuteTime": {
     "end_time": "2024-05-13T17:04:50.617820500Z",
     "start_time": "2024-05-13T17:04:50.596832300Z"
    }
   },
   "id": "af5801740ea21de3",
   "execution_count": 77
  },
  {
   "cell_type": "code",
   "outputs": [],
   "source": [],
   "metadata": {
    "collapsed": false
   },
   "id": "cb853728fa647e05"
  }
 ],
 "metadata": {
  "kernelspec": {
   "display_name": "Python 3",
   "language": "python",
   "name": "python3"
  },
  "language_info": {
   "codemirror_mode": {
    "name": "ipython",
    "version": 2
   },
   "file_extension": ".py",
   "mimetype": "text/x-python",
   "name": "python",
   "nbconvert_exporter": "python",
   "pygments_lexer": "ipython2",
   "version": "2.7.6"
  }
 },
 "nbformat": 4,
 "nbformat_minor": 5
}
